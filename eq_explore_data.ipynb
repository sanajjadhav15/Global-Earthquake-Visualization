{
 "cells": [
  {
   "cell_type": "code",
   "execution_count": 32,
   "id": "0c8ed6bd-8cfd-46a1-b826-17bf9d09bf40",
   "metadata": {},
   "outputs": [],
   "source": [
    "import json\n",
    "\n",
    "filename='data/eq_data_1_day_m1.json'\n",
    "with open(filename) as f:\n",
    "    all_eq_data=json.load(f)\n",
    "\n",
    "readable_file='data/readable_eq_data.json'\n",
    "with open(readable_file,'w') as f:\n",
    "    json.dump(all_eq_data,f,indent=4)"
   ]
  },
  {
   "cell_type": "code",
   "execution_count": 3,
   "id": "8328f0bb-04ba-4852-9cb9-90ee1ec89035",
   "metadata": {},
   "outputs": [
    {
     "name": "stdout",
     "output_type": "stream",
     "text": [
      "158\n"
     ]
    }
   ],
   "source": [
    "all_eq_dicts=all_eq_data['features']\n",
    "print(len(all_eq_dicts))"
   ]
  },
  {
   "cell_type": "markdown",
   "id": "3a4c2d1c-ea79-4562-88d4-80ab6094639a",
   "metadata": {},
   "source": [
    "Extracting Magnitudes, location data"
   ]
  },
  {
   "cell_type": "code",
   "execution_count": 17,
   "id": "634ffdc9-df7b-448e-b2c8-2c3d8d2db4f4",
   "metadata": {},
   "outputs": [
    {
     "name": "stdout",
     "output_type": "stream",
     "text": [
      "[0.96, 1.2, 4.3, 3.6, 2.1]\n",
      "[-116.7941667, -148.9865, -74.2343, -161.6801, -118.5316667]\n",
      "[33.4863333, 64.6673, -12.1025, 54.2232, 35.3098333]\n"
     ]
    }
   ],
   "source": [
    "mags, lons,lats=[], [], []\n",
    "for eq_dict in all_eq_dicts:\n",
    "    mag=eq_dict['properties']['mag']\n",
    "    lon=eq_dict['geometry']['coordinates'][0]\n",
    "    lat=eq_dict['geometry']['coordinates'][1]\n",
    "    mags.append(mag)\n",
    "    lons.append(lon)\n",
    "    lats.append(lat)\n",
    "\n",
    "print(mags[:5])\n",
    "print(lons[:5])\n",
    "print(lats[:5])"
   ]
  },
  {
   "cell_type": "markdown",
   "id": "fe47da41-9c18-4ab1-84e4-0f05084dd42b",
   "metadata": {},
   "source": [
    "Building World Map"
   ]
  },
  {
   "cell_type": "code",
   "execution_count": 34,
   "id": "9ee6da94-e35c-4508-bdca-1324d3937e5e",
   "metadata": {},
   "outputs": [
    {
     "data": {
      "text/plain": [
       "'global_earthquakes.html'"
      ]
     },
     "execution_count": 34,
     "metadata": {},
     "output_type": "execute_result"
    }
   ],
   "source": [
    "from plotly.graph_objs import Scattergeo, Layout\n",
    "from plotly import offline\n",
    "\n",
    "data=[{\n",
    "    'type':'scattergeo',\n",
    "    'lon':lons,\n",
    "    'lat':lats,\n",
    "    'marker':{\n",
    "        'size':[5*mag for mag in mags]\n",
    "    }\n",
    "}]\n",
    "my_layout=Layout(title='Global Earthquakes')\n",
    "\n",
    "fig={'data': data,'layout':my_layout}\n",
    "offline.plot(fig,filename='global_earthquakes.html')"
   ]
  },
  {
   "cell_type": "code",
   "execution_count": null,
   "id": "6e431fd7-a14a-4408-950b-a07477970022",
   "metadata": {},
   "outputs": [],
   "source": []
  }
 ],
 "metadata": {
  "kernelspec": {
   "display_name": "Python 3 (ipykernel)",
   "language": "python",
   "name": "python3"
  },
  "language_info": {
   "codemirror_mode": {
    "name": "ipython",
    "version": 3
   },
   "file_extension": ".py",
   "mimetype": "text/x-python",
   "name": "python",
   "nbconvert_exporter": "python",
   "pygments_lexer": "ipython3",
   "version": "3.11.7"
  },
  "widgets": {
   "application/vnd.jupyter.widget-state+json": {
    "state": {},
    "version_major": 2,
    "version_minor": 0
   }
  }
 },
 "nbformat": 4,
 "nbformat_minor": 5
}
