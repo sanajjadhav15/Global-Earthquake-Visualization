{
 "cells": [
  {
   "cell_type": "code",
   "execution_count": 3,
   "id": "29764a6f-df2e-42b9-9dca-62fa0b6dbb10",
   "metadata": {},
   "outputs": [],
   "source": [
    "import json\n",
    "\n",
    "filename='data/eq_data_30_day_m1.json'\n",
    "with open(filename) as f:\n",
    "    all_eq_data=json.load(f)\n",
    "\n",
    "readable_file='data/readable2_eq_data.json'\n",
    "with open(readable_file,'w') as f:\n",
    "    json.dump(all_eq_data,f,indent=4)"
   ]
  },
  {
   "cell_type": "code",
   "execution_count": 15,
   "id": "58149d8a-46cd-49ff-8431-dc6fe61af45f",
   "metadata": {},
   "outputs": [
    {
     "name": "stdout",
     "output_type": "stream",
     "text": [
      "6274\n",
      "[0.96, 1.2, 4.3, 3.6, 2.1]\n",
      "[-116.7941667, -148.9865, -74.2343, -161.6801, -118.5316667]\n",
      "[33.4863333, 64.6673, -12.1025, 54.2232, 35.3098333]\n"
     ]
    }
   ],
   "source": [
    "all_eq_dicts=all_eq_data['features']\n",
    "print(len(all_eq_dicts))\n",
    "\n",
    "mags, lons,lats,hover_texts=[], [], [],[]\n",
    "for eq_dict in all_eq_dicts:\n",
    "    mag=eq_dict['properties']['mag']\n",
    "    lon=eq_dict['geometry']['coordinates'][0]\n",
    "    lat=eq_dict['geometry']['coordinates'][1]\n",
    "    title=eq_dict['properties']['title']\n",
    "    mags.append(mag)\n",
    "    lons.append(lon)\n",
    "    lats.append(lat)\n",
    "    hover_texts.append(title)\n",
    "\n",
    "print(mags[:5])\n",
    "print(lons[:5])\n",
    "print(lats[:5])"
   ]
  },
  {
   "cell_type": "code",
   "execution_count": 19,
   "id": "4047349b-252e-419f-8a5f-9a7c7f5ed759",
   "metadata": {},
   "outputs": [
    {
     "data": {
      "text/plain": [
       "'global_earthquakes_30day.html'"
      ]
     },
     "execution_count": 19,
     "metadata": {},
     "output_type": "execute_result"
    }
   ],
   "source": [
    "from plotly.graph_objs import Scattergeo, Layout\n",
    "from plotly import offline\n",
    "\n",
    "data=[{\n",
    "    'type':'scattergeo',\n",
    "    'lon':lons,\n",
    "    'lat':lats,\n",
    "    'text':hover_texts,\n",
    "    'marker':{\n",
    "        'size':[3*mag for mag in mags],\n",
    "        'color':mags,\n",
    "        'colorscale':'Viridis',\n",
    "        'reversescale':True,\n",
    "        'colorbar':{'title':'Magnitude'},\n",
    "    },\n",
    "}]\n",
    "my_layout=Layout(title='Global Earthquakes')\n",
    "\n",
    "fig={'data': data,'layout':my_layout}\n",
    "offline.plot(fig,filename='global_earthquakes_30day.html')"
   ]
  },
  {
   "cell_type": "code",
   "execution_count": null,
   "id": "b3aaa2df-5485-4a69-91d0-37cd9a2f0577",
   "metadata": {},
   "outputs": [],
   "source": []
  }
 ],
 "metadata": {
  "kernelspec": {
   "display_name": "Python 3 (ipykernel)",
   "language": "python",
   "name": "python3"
  },
  "language_info": {
   "codemirror_mode": {
    "name": "ipython",
    "version": 3
   },
   "file_extension": ".py",
   "mimetype": "text/x-python",
   "name": "python",
   "nbconvert_exporter": "python",
   "pygments_lexer": "ipython3",
   "version": "3.11.7"
  },
  "widgets": {
   "application/vnd.jupyter.widget-state+json": {
    "state": {},
    "version_major": 2,
    "version_minor": 0
   }
  }
 },
 "nbformat": 4,
 "nbformat_minor": 5
}
